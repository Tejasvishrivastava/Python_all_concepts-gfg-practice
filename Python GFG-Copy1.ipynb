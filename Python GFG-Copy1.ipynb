{
 "cells": [
  {
   "cell_type": "code",
   "execution_count": null,
   "metadata": {},
   "outputs": [],
   "source": [
    "# comments in one line\n",
    "'''\n",
    "\n",
    "coments in \n",
    "multiple lines\n",
    "\n",
    "'''\n",
    "\n",
    "\"\"\"\n",
    "double Qoutes also allowed (works same as '''some string''')\n",
    "\n",
    "\"\"\""
   ]
  },
  {
   "cell_type": "code",
   "execution_count": 3,
   "metadata": {},
   "outputs": [
    {
     "name": "stdout",
     "output_type": "stream",
     "text": [
      "enter num64392174\n"
     ]
    }
   ],
   "source": [
    "n = int(input(\"enter num\"))\n",
    "# op -> enter num -  34223 \n",
    "\n",
    "\n",
    "#py 2 -> n = raw_input(\"enter num\")"
   ]
  },
  {
   "cell_type": "code",
   "execution_count": 10,
   "metadata": {},
   "outputs": [
    {
     "name": "stdout",
     "output_type": "stream",
     "text": [
      "2\n"
     ]
    }
   ],
   "source": [
    "print(True + True)\n",
    "#True + True  = 1 + 1= 2  (takes the value of boolean)\n",
    "#print(True) -> True\n",
    "#print(True==1)->True"
   ]
  },
  {
   "cell_type": "code",
   "execution_count": 18,
   "metadata": {},
   "outputs": [
    {
     "name": "stdout",
     "output_type": "stream",
     "text": [
      "True False False False\n",
      "0 123 0 -1 -1\n",
      "1 1 -1 123 -199\n"
     ]
    }
   ],
   "source": [
    "# and , or , not \n",
    "# print is keyword in py2 and inbuilt func in  py3\n",
    "\n",
    "#not --  inverts the truth value\n",
    "print(not 0, not 1, not 123,not -3)\n",
    "\n",
    "#and ---Return the first false value .if not found return last. \n",
    "print( 0 and 1 , 1 and 123 , 0 and -1 ,123 and -1, -199 and -1)\n",
    "\n",
    "#or --Return the first True value.if not found return last\n",
    "\n",
    "print( 0 or 1 , 1 or 123 , 0 or -1 ,123 or -1, -199 or -1)"
   ]
  },
  {
   "cell_type": "code",
   "execution_count": 26,
   "metadata": {},
   "outputs": [
    {
     "ename": "AssertionError",
     "evalue": "3 is notgreater than 4",
     "output_type": "error",
     "traceback": [
      "\u001b[1;31m---------------------------------------------------------------------------\u001b[0m",
      "\u001b[1;31mAssertionError\u001b[0m                            Traceback (most recent call last)",
      "\u001b[1;32m<ipython-input-26-1eaf870e05d8>\u001b[0m in \u001b[0;36m<module>\u001b[1;34m\u001b[0m\n\u001b[0;32m      7\u001b[0m '''\n\u001b[0;32m      8\u001b[0m \u001b[1;33m\u001b[0m\u001b[0m\n\u001b[1;32m----> 9\u001b[1;33m \u001b[1;32massert\u001b[0m \u001b[1;36m3\u001b[0m \u001b[1;33m>\u001b[0m \u001b[1;36m4\u001b[0m \u001b[1;33m,\u001b[0m \u001b[1;34m\"3 is notgreater than 4\"\u001b[0m\u001b[1;33m\u001b[0m\u001b[1;33m\u001b[0m\u001b[0m\n\u001b[0m\u001b[0;32m     10\u001b[0m \u001b[1;33m\u001b[0m\u001b[0m\n\u001b[0;32m     11\u001b[0m \u001b[1;31m#does nothing when true , but raise error when false and prints msg\u001b[0m\u001b[1;33m\u001b[0m\u001b[1;33m\u001b[0m\u001b[1;33m\u001b[0m\u001b[0m\n",
      "\u001b[1;31mAssertionError\u001b[0m: 3 is notgreater than 4"
     ]
    }
   ],
   "source": [
    "'''\n",
    "assert : This function is used for debugging purposes. \n",
    "Usually used to check the correctness of code.\n",
    "If a statement evaluated to true, nothing happens, \n",
    "but when it is false, “AssertionError” is raised . \n",
    "One can also print a message with the error, separated by a comma.\n",
    "'''\n",
    "\n",
    "assert 3 > 4 , \"3 is notgreater than 4\"\n",
    "\n",
    "#does nothing when true , but raise error when false and prints msg\n"
   ]
  },
  {
   "cell_type": "code",
   "execution_count": 29,
   "metadata": {},
   "outputs": [
    {
     "name": "stdout",
     "output_type": "stream",
     "text": [
      " these are some imp keywords\n"
     ]
    }
   ],
   "source": [
    "'''\n",
    "\n",
    "pass -> skip or when func has nothing to do\n",
    "\n",
    "control flow\n",
    "continue->skips the current iteration\n",
    "break - > breaks the immediate loop\n",
    "\n",
    "class-> define class\n",
    "def-> define func\n",
    "\n",
    "conditional statements:\n",
    "if\n",
    "else\n",
    "elif\n",
    "\n",
    "\n",
    "del-> del a reference\n",
    "\n",
    "\n",
    "'''\n",
    "\n",
    "print(\" these are some imp keywords\")"
   ]
  },
  {
   "cell_type": "code",
   "execution_count": 46,
   "metadata": {},
   "outputs": [
    {
     "name": "stdout",
     "output_type": "stream",
     "text": [
      "2\n",
      "5\n",
      "4\n",
      "8\n"
     ]
    }
   ],
   "source": [
    "'''\n",
    "A namespace is a system that has a unique name for each and every object \n",
    "in Python. An object might be a variable or a method. \n",
    "\n",
    "Python itself maintains a namespace in the form of a Python dictionary.\n",
    "Let’s go through an example, a directory-file system structure in\n",
    "computers. Needless to say, that one can have multiple directories having\n",
    "a file with the same name inside every directory. \n",
    "\n",
    "But one can get directed to the file, one wishes, \n",
    "just by specifying the absolute path to the file\n",
    "\n",
    "'''\n",
    "\n",
    "# types of namespace\n",
    "\n",
    "# Built -in namespace\n",
    "# Global namespace\n",
    "# Local namespace\n",
    "\n",
    "'''\n",
    "if the scope of an object ends, the lifetime of that namespace\n",
    "comes to an end. \n",
    "\n",
    "Hence, it is not possible to access\n",
    "the inner namespace’s objects from an outer namespace.\n",
    "\n",
    "'''\n",
    "# example\n",
    "\n",
    "count = 5\n",
    "var = 2 #global \n",
    "\n",
    "def some_func():\n",
    "    \n",
    "    var = 4 #local\n",
    "    print(var) \n",
    "    \n",
    "    \n",
    "    def nested_func():\n",
    "        \n",
    "        var = 8\n",
    "        # x = 3\n",
    "        global count \n",
    "        count += 10   #has to define in as global to access global var \n",
    "        print(var)\n",
    "    \n",
    "    nested_func()\n",
    "\n",
    "print(var)\n",
    "\n",
    "print(count)\n",
    "# print(x) -> error 'Not defined'\n",
    "\n",
    "some_func()\n",
    "\n",
    "#   some_func.nested_func() -->\n",
    "# gives error because u cant call it outside the\n",
    "# func that defines the nested func"
   ]
  },
  {
   "cell_type": "code",
   "execution_count": null,
   "metadata": {},
   "outputs": [],
   "source": []
  },
  {
   "cell_type": "code",
   "execution_count": 42,
   "metadata": {},
   "outputs": [
    {
     "name": "stdout",
     "output_type": "stream",
     "text": [
      "5\n",
      "0\n"
     ]
    }
   ],
   "source": [
    "# no i++ / i-- , ++i / --i\n",
    "i = 3\n",
    "i += 2\n",
    "print(i)\n",
    "i -= 5\n",
    "print(i)\n",
    " "
   ]
  },
  {
   "cell_type": "code",
   "execution_count": 47,
   "metadata": {},
   "outputs": [
    {
     "name": "stdout",
     "output_type": "stream",
     "text": [
      "Inside some_func\n",
      "Inside inner function, value of var: 10\n",
      "Try printing var from outer function:  2\n"
     ]
    }
   ],
   "source": [
    "def some_func():\n",
    "    print(\"Inside some_func\")\n",
    "    def some_inner_func():\n",
    "        var = 10\n",
    "        print(\"Inside inner function, value of var:\",var)\n",
    "    some_inner_func()\n",
    "    print(\"Try printing var from outer function: \",var)\n",
    "some_func()"
   ]
  },
  {
   "cell_type": "code",
   "execution_count": 49,
   "metadata": {},
   "outputs": [
    {
     "name": "stdout",
     "output_type": "stream",
     "text": [
      "15\n"
     ]
    }
   ],
   "source": [
    "s = 1 + 2 +3 + \\\n",
    "4 + 5\n",
    "print(s)"
   ]
  },
  {
   "cell_type": "code",
   "execution_count": 50,
   "metadata": {},
   "outputs": [
    {
     "ename": "SyntaxError",
     "evalue": "invalid syntax (<ipython-input-50-0603ca4d0aca>, line 1)",
     "output_type": "error",
     "traceback": [
      "\u001b[1;36m  File \u001b[1;32m\"<ipython-input-50-0603ca4d0aca>\"\u001b[1;36m, line \u001b[1;32m1\u001b[0m\n\u001b[1;33m    x = 1 +\u001b[0m\n\u001b[1;37m           ^\u001b[0m\n\u001b[1;31mSyntaxError\u001b[0m\u001b[1;31m:\u001b[0m invalid syntax\n"
     ]
    }
   ],
   "source": [
    " x = 1 +\n",
    "    2"
   ]
  },
  {
   "cell_type": "code",
   "execution_count": 54,
   "metadata": {},
   "outputs": [
    {
     "name": "stdout",
     "output_type": "stream",
     "text": [
      "1 2 3 {-2} [5.0] 1\n"
     ]
    }
   ],
   "source": [
    "# use [] or ( ) or {} or ; for declaring discontiuation or presenting association\n",
    "x = { 1 +\n",
    "     2 -5 }\n",
    "y = [ 2 \n",
    "     / 1 + 3]\n",
    "z = ( 1 + 2 +3 \n",
    "    -5)\n",
    "a = 1 ; b = 2 ; c = 3\n",
    "\n",
    "print(a ,b , c, x, y, z )"
   ]
  },
  {
   "cell_type": "code",
   "execution_count": 55,
   "metadata": {},
   "outputs": [
    {
     "name": "stdout",
     "output_type": "stream",
     "text": [
      "1\n"
     ]
    }
   ],
   "source": [
    "# use of ?: operator\n",
    "# in C ->  \n",
    "# x = 3 < 9 ? 1 : 0\n",
    "x = 1 if 3<9 else 0\n",
    "print(x)"
   ]
  },
  {
   "cell_type": "code",
   "execution_count": 57,
   "metadata": {},
   "outputs": [
    {
     "name": "stdout",
     "output_type": "stream",
     "text": [
      "abkjcfbhnskdjhna123123\n",
      "enter char99\n",
      "enter num123xyz\n",
      "abkjcfbhnskdjhna123123 99 123xyz\n"
     ]
    }
   ],
   "source": [
    "x = input()\n",
    "y = int(input(\"enter char\"))  # type casting\n",
    "z = str(input(\"enter num\"))\n",
    "\n",
    "print(x,y,z)"
   ]
  },
  {
   "cell_type": "code",
   "execution_count": 61,
   "metadata": {},
   "outputs": [
    {
     "name": "stdout",
     "output_type": "stream",
     "text": [
      "my name is tejasvi shrivastava\n",
      "i=  ['my', 'name', 'is', 'tejasvi shrivastava'] \n",
      "\n",
      "my name is tejasvi shrivastava\n",
      "z=  ['my', 'name', 'is', 'tejasvi shrivastava']\n"
     ]
    }
   ],
   "source": [
    "'''\n",
    "\n",
    "multiple inputs: two methods\n",
    " 1. split()\n",
    " 2. list comprehension\n",
    "\n",
    "'''\n",
    "i = input().split(\" \",3)\n",
    "print(\"i= \",i,\"\\n\")\n",
    "\n",
    "z = [ x for x in input().split(\" \",3)]\n",
    "print(\"z= \",z)\n",
    "\n",
    "\n"
   ]
  },
  {
   "cell_type": "code",
   "execution_count": 66,
   "metadata": {},
   "outputs": [
    {
     "name": "stdout",
     "output_type": "stream",
     "text": [
      " this is \n",
      " lifestory\n",
      " this  is  \n",
      "  life story\n",
      " this  is  \n",
      "  life story  this  is  \n",
      "  life story  this -is -\n",
      " -life-story\n"
     ]
    }
   ],
   "source": [
    "\n",
    "'''\n",
    "\n",
    "Syntax: print(value(s), sep= ‘ ‘, end = ‘\\n’, file=file, flush=flush)\n",
    "Parameters: \n",
    "\n",
    "value(s) : Any value, and as many as you like. \n",
    "         Will be converted to string before printed \n",
    "\n",
    "sep=’separator’ : (Optional) Specify how to separate the objects\n",
    "     if there is more than one.Default :’ ‘ \n",
    "\n",
    "end=’end’: (Optional) Specify what to print at the end.Default : ‘\\n’ \n",
    "\n",
    "file : (Optional) An object with a write method. Default :sys.stdout \n",
    "\n",
    "flush : (Optional) A Boolean, specifying if the output is flushed (True) or buffered (False). Default: False\n",
    "\n",
    "Returns: It returns output to the screen.\n",
    "\n",
    "'''\n",
    "\n",
    "print(\" this \", \"is \",\"\\n \", \"life\",\"story\",\"with sep by empty char\",sep=\"\")\n",
    "print(\" this \", \"is \",\"\\n \", \"life\",\"story\",\"sep by space\",sep=\" \")\n",
    "print(\" this \", \"is \",\"\\n \", \"life\",\"story\",\"sep by space and 'ends with space not new line'\",sep=\" \",end=\" \")\n",
    "print(\" this \", \"is \",\"\\n \", \"life\",\"story\",\"\"sep by space and 'ends with space not new line' and \",sep=\" \",end= \" \",flush =True)\n",
    "print(\" this \", \"is \",\"\\n \", \"life\",\"story\",sep=\"-\")\n",
    "\n"
   ]
  },
  {
   "cell_type": "code",
   "execution_count": 68,
   "metadata": {},
   "outputs": [
    {
     "name": "stdout",
     "output_type": "stream",
     "text": [
      "3>>>2>>>1>>>Start\n"
     ]
    }
   ],
   "source": [
    "import time\n",
    " \n",
    "count_seconds = 3\n",
    "for i in reversed(range(count_seconds + 1)):\n",
    "    if i > 0:\n",
    "        print(i, end='>>>')\n",
    "        time.sleep(10)\n",
    "    else:\n",
    "        print('Start')"
   ]
  },
  {
   "cell_type": "code",
   "execution_count": 76,
   "metadata": {},
   "outputs": [
    {
     "name": "stdout",
     "output_type": "stream",
     "text": [
      "ishita k\n",
      "1 2 3 4 5 6\n"
     ]
    }
   ],
   "source": [
    "print(\"ishita\"+\" k\")\n",
    "\n",
    "l=[1,2,3,4,5,6]\n",
    " \n",
    "# using * symbol prints the list\n",
    "# elements in a single line\n",
    "\n",
    "print(*l)"
   ]
  },
  {
   "cell_type": "code",
   "execution_count": 79,
   "metadata": {},
   "outputs": [
    {
     "name": "stdout",
     "output_type": "stream",
     "text": [
      "she loves me\n"
     ]
    }
   ],
   "source": [
    "print(\"she\", end = \" loves \")\n",
    "print(\"me\")"
   ]
  },
  {
   "cell_type": "code",
   "execution_count": 80,
   "metadata": {},
   "outputs": [
    {
     "name": "stdout",
     "output_type": "stream",
     "text": [
      "Geeks :  1, Portal :  5.33\n",
      "Total students : 240, Boys : 120\n",
      "    031\n",
      " 3.561E+02\n"
     ]
    }
   ],
   "source": [
    "# Python program showing how to use\n",
    "# string modulo operator(%) to print\n",
    "# fancier output\n",
    " \n",
    "# print integer and float value\n",
    "print(\"Geeks : %2d, Portal : %5.2f\" % (1, 05.333))\n",
    " \n",
    "# print integer value\n",
    "print(\"Total students : %3d, Boys : %2d\" % (240, 120))\n",
    " \n",
    "# print octal value\n",
    "print(\"%7.3o\" % (25))\n",
    " \n",
    "# print exponential value\n",
    "print(\"%10.3E\" % (356.08977))"
   ]
  },
  {
   "cell_type": "code",
   "execution_count": 117,
   "metadata": {},
   "outputs": [
    {
     "name": "stdout",
     "output_type": "stream",
     "text": [
      "x:2233\n"
     ]
    }
   ],
   "source": [
    "'''%[flags][width][.precision]type '''\n",
    "\n",
    "x = 2233.49262952\n",
    "print(\"x:%0d\"%(x))"
   ]
  },
  {
   "cell_type": "code",
   "execution_count": 120,
   "metadata": {},
   "outputs": [
    {
     "name": "stdout",
     "output_type": "stream",
     "text": [
      "Center aligned string with fillchr: \n",
      "#########I love ishita kashyap##########\n",
      "\n",
      "The left aligned string is : \n",
      "I love ishita kashyap-------------------\n",
      "\n",
      "The right aligned string is : \n",
      "---------------------------------------I love ishita kashyap\n"
     ]
    }
   ],
   "source": [
    "# Python program to\n",
    "# format a output using\n",
    "# string() method\n",
    " \n",
    "cstr = \"I love ishita kashyap\"\n",
    "   \n",
    "# Printing the center aligned \n",
    "# string with fillchr\n",
    "print (\"Center aligned string with fillchr: \")\n",
    "print (cstr.center(40, '#'))\n",
    "print() \n",
    "\n",
    "    \n",
    "# Printing the left aligned \n",
    "# string with \"-\" padding \n",
    "print (\"The left aligned string is : \")\n",
    "print (cstr.ljust(40, '-'))\n",
    "print()\n",
    " \n",
    "# Printing the right aligned string\n",
    "# with \"-\" padding \n",
    "\n",
    "\n",
    "print (\"The right aligned string is : \")\n",
    "print (cstr.rjust(60, '-'))"
   ]
  },
  {
   "cell_type": "code",
   "execution_count": 131,
   "metadata": {},
   "outputs": [
    {
     "name": "stdout",
     "output_type": "stream",
     "text": [
      "0\n",
      "14\n",
      "-11\n",
      "14\n",
      "2\n",
      "40\n"
     ]
    },
    {
     "data": {
      "text/plain": [
       "' 1010 <<2 = 1  0  1  0  0  0\\n            32 16  8  4  2  1\\n           = 32 + 8\\n           = 40\\n'"
      ]
     },
     "execution_count": 131,
     "metadata": {},
     "output_type": "execute_result"
    }
   ],
   "source": [
    "#operators\n",
    "\n",
    "'''\n",
    "+ - % / * // ->   l to r\n",
    "** -> power       r to l\n",
    "--i , ++i  ->     l to r\n",
    "i-- , i++ ->      r to l\n",
    "and , or ,not->   l to r\n",
    "| , & , ^(xor) , ~(not), >> shift right , << shift left \n",
    "bitwise->  l to r\n",
    "> , <, == , !=\n",
    ">= , <= relational- l to r\n",
    "\n",
    "\n",
    "'''\n",
    "\n",
    "\n",
    "# Examples of Bitwise operators\n",
    "a = 10 \n",
    "# a = 1010\n",
    "\n",
    "\n",
    "b = 4\n",
    "# b = 0100\n",
    "\n",
    "\n",
    "\n",
    "# Print bitwise AND operation  \n",
    "print(a & b)\n",
    "# 1010 & 0100 = 0000\n",
    "\n",
    "\n",
    "# Print bitwise OR operation\n",
    "print(a | b)\n",
    "# 1010 | 0100 = 1110\n",
    "  \n",
    "# Print bitwise NOT operation \n",
    "print(~a)\n",
    "# ~1010 = 1010 + 1 = 1011 = 8 + 3 = 11\n",
    "\n",
    "  \n",
    "# print bitwise XOR operation \n",
    "print(a ^ b)\n",
    "# 1010 ^ 0100 = 1110\n",
    "  \n",
    "# print bitwise right shift operation \n",
    "print(a >> 2)\n",
    "# 1010 >>2 =  0010\n",
    "  \n",
    "# print bitwise left shift operation \n",
    "print(a << 2)\n",
    "''' 1010 <<2 = 1  0  1  0  0  0\n",
    "            32 16  8  4  2  1\n",
    "           = 32 + 8\n",
    "           = 40\n",
    "'''"
   ]
  },
  {
   "cell_type": "code",
   "execution_count": null,
   "metadata": {},
   "outputs": [],
   "source": [
    "# assignment \n",
    "#   +=  -=  *=  /=   //=  **=  %=\n",
    "#  &=  |=  ^=  >>=   <<=  \n"
   ]
  },
  {
   "cell_type": "code",
   "execution_count": 150,
   "metadata": {},
   "outputs": [
    {
     "name": "stdout",
     "output_type": "stream",
     "text": [
      "1.0\n",
      "-1.05\n",
      "2\n",
      "-3\n"
     ]
    }
   ],
   "source": [
    "'''\n",
    "Operator\tDescription\t  Associativity\n",
    "\n",
    "( )\tParentheses                                    \tleft-to-right\n",
    "\n",
    "**\tExponent                                       \tright-to-left\n",
    "\n",
    "*  /  %\tMultiplication/division/modulus            \tleft-to-right\n",
    "\n",
    "+  -\tAddition/subtraction                       \tleft-to-right\n",
    "\n",
    "<<  >>\tBitwise shift left, Bitwise shift right    \tleft-to-right\n",
    "\n",
    "<  <= \n",
    "\n",
    ">  >=\tRelational less than/less than or equal to \n",
    "\n",
    "Relational greater than/greater  than or equal to  \tleft-to-right\n",
    "\n",
    "==  !=\tRelational is equal to/is not equal to     \tleft-to-right\n",
    "\n",
    "'''\n",
    "\n",
    "\n",
    "x =  2.1//2\n",
    "print(x)\n",
    "print(-2.1/2)\n",
    "\n",
    "print(5//2)\n",
    "print(-5//2)"
   ]
  },
  {
   "cell_type": "code",
   "execution_count": 151,
   "metadata": {},
   "outputs": [
    {
     "name": "stdout",
     "output_type": "stream",
     "text": [
      " lol  lol  lol  lol \n"
     ]
    }
   ],
   "source": [
    "# operator overloading means giving the operator meaning beyond its definition.\n",
    "# like \"+\" performs addition as well as concatenation for strings\n",
    "print(4 * \" lol \")\n"
   ]
  },
  {
   "cell_type": "code",
   "execution_count": 160,
   "metadata": {},
   "outputs": [
    {
     "name": "stdout",
     "output_type": "stream",
     "text": [
      "The addition of numbers is :7\n",
      "The difference of numbers is :1\n",
      "The product of numbers is :12\n",
      "The true division of numbers is : 2.5\n",
      "The floor division of numbers is : 2\n",
      "The exponentiation of numbers is : 25\n",
      "The modulus of numbers is : 1\n",
      "or--- -1\n",
      "and--- 1\n",
      "not---- False\n",
      "xor--- -2\n",
      "invert-- 0\n"
     ]
    }
   ],
   "source": [
    "import operator\n",
    "  \n",
    "# Initializing variables\n",
    "a = 4\n",
    "  \n",
    "b = 3\n",
    "  \n",
    "# using add() to add two numbers\n",
    "print (\"The addition of numbers is :\",end=\"\");\n",
    "print (operator.add(a, b))\n",
    "  \n",
    "# using sub() to subtract two numbers\n",
    "print (\"The difference of numbers is :\",end=\"\");\n",
    "print (operator.sub(a, b))\n",
    "  \n",
    "# using mul() to multiply two numbers\n",
    "print (\"The product of numbers is :\",end=\"\");\n",
    "print (operator.mul(a, b))\n",
    "\n",
    "\n",
    "import operator\n",
    "  \n",
    "# Initializing variables\n",
    "a = 5\n",
    "  \n",
    "b = 2\n",
    "  \n",
    "# using truediv() to divide two numbers\n",
    "print (\"The true division of numbers is : \",end=\"\");\n",
    "print (operator.truediv(a,b))\n",
    "  \n",
    "# using floordiv() to divide two numbers\n",
    "print (\"The floor division of numbers is : \",end=\"\");\n",
    "print (operator.floordiv(a,b))\n",
    "  \n",
    "# using pow() to exponentiate two numbers\n",
    "print (\"The exponentiation of numbers is : \",end=\"\");\n",
    "print (operator.pow(a,b))\n",
    "  \n",
    "# using mod() to take modulus of two numbers\n",
    "print (\"The modulus of numbers is : \",end=\"\");\n",
    "print (operator.mod(a,b))\n",
    "\n",
    "a = -1\n",
    "b = 1\n",
    "print(\"or---\",operator.or_(a,b))\n",
    "print(\"and---\",operator.and_(a,b))\n",
    "print(\"not----\",operator.not_(a))\n",
    "print(\"xor---\",operator.xor(a,b))\n",
    "print(\"invert--\",operator.invert(a))"
   ]
  },
  {
   "cell_type": "code",
   "execution_count": 161,
   "metadata": {},
   "outputs": [
    {
     "name": "stdout",
     "output_type": "stream",
     "text": [
      "True\n",
      "False\n",
      "True\n",
      "False\n"
     ]
    }
   ],
   "source": [
    "# diff between is and == operator\n",
    "\n",
    "'''\n",
    "is check if same obj\n",
    "and \n",
    "== check if same value\n",
    "\n",
    "'''\n",
    "# python3 code to\n",
    "# illustrate the\n",
    "# difference between\n",
    "# == and is operator\n",
    "# [] is an empty list\n",
    "list1 = []\n",
    "list2 = []\n",
    "list3=list1\n",
    "\n",
    "if (list1 == list2):# yes same value , no elements\n",
    "\tprint(\"True\")\n",
    "else:\n",
    "\tprint(\"False\")\n",
    "\n",
    "if (list1 is list2):#not referencing to same obj\n",
    "\tprint(\"True\")\n",
    "else:\n",
    "\tprint(\"False\")\n",
    "\n",
    "if (list1 is list3):#yes same obj , as assigned \n",
    "\tprint(\"True\")\n",
    "else:\n",
    "\tprint(\"False\")\n",
    "\n",
    "list3 = list3 + list2\n",
    "\n",
    "if (list1 is list3):#no , not same object\n",
    "\tprint(\"True\")\n",
    "else:\n",
    "\tprint(\"False\")\n"
   ]
  },
  {
   "cell_type": "code",
   "execution_count": 166,
   "metadata": {},
   "outputs": [
    {
     "name": "stdout",
     "output_type": "stream",
     "text": [
      "not overlapping\n"
     ]
    }
   ],
   "source": [
    "# Python program to illustrate\n",
    "# Finding common member in list\n",
    "# using 'in' operator\n",
    "list1=[1,2,3,4,5]\n",
    "list2=[6,7,8,9]\n",
    "for item in list1:\n",
    "    if item in list2:\n",
    "        print(\"overlapping\")\n",
    "else:\n",
    "    print(\"not overlapping\")\n"
   ]
  },
  {
   "cell_type": "code",
   "execution_count": 168,
   "metadata": {},
   "outputs": [
    {
     "name": "stdout",
     "output_type": "stream",
     "text": [
      "true\n"
     ]
    }
   ],
   "source": [
    "'''\n",
    "\n",
    "membership operator\n",
    "\n",
    "in-- The ‘in’ operator is used to check if a value exists in a sequence or not.\n",
    "     Evaluates to true if it finds a variable in the specified sequence and false otherwise.\n",
    "not in\n",
    "\n",
    "is ---Evaluates to true if the variables on either side of the operator point to the same object and false otherwise\n",
    "is not\n",
    "\n",
    "'''\n",
    "# Python program to illustrate the\n",
    "# use of 'is not' identity operator\n",
    "x = 5.2\n",
    "if (type(x) is not int):\n",
    "\tprint(\"true\")\n",
    "else:\n",
    "\tprint(\"false\")\n"
   ]
  },
  {
   "cell_type": "code",
   "execution_count": 177,
   "metadata": {},
   "outputs": [
    {
     "name": "stdout",
     "output_type": "stream",
     "text": [
      "his is the worl\n",
      "this is the world which is cruel\n"
     ]
    }
   ],
   "source": [
    "# strings , lists[] , tuples() , iterations\n",
    "# immutable , mutable , immutable\n",
    "\n",
    "string = 'this is the world'\n",
    "\n",
    "# access - wrt index\n",
    "print(string[1:-1])\n",
    "\n",
    "#cocatenate\n",
    "s = ' which is cruel'\n",
    "print(string+s)\n",
    "\n",
    "\n",
    "\n"
   ]
  },
  {
   "cell_type": "code",
   "execution_count": 178,
   "metadata": {},
   "outputs": [
    {
     "name": "stdout",
     "output_type": "stream",
     "text": [
      "Print String in default order: \n",
      "Geeks For Life\n",
      "\n",
      "Print String in Positional order: \n",
      "For Geeks Life\n",
      "\n",
      "Print String in order of Keywords: \n",
      "Life For Geeks\n"
     ]
    }
   ],
   "source": [
    "# Python Program for\n",
    "# Formatting of Strings\n",
    "\n",
    "# Default order\n",
    "String1 = \"{} {} {}\".format('Geeks', 'For', 'Life')\n",
    "print(\"Print String in default order: \")\n",
    "print(String1)\n",
    "\n",
    "# Positional Formatting\n",
    "String1 = \"{1} {0} {2}\".format('Geeks', 'For', 'Life')\n",
    "print(\"\\nPrint String in Positional order: \")\n",
    "print(String1)\n",
    "\n",
    "# Keyword Formatting\n",
    "String1 = \"{l} {f} {g}\".format(g = 'Geeks', f = 'For', l = 'Life')\n",
    "print(\"\\nPrint String in order of Keywords: \")\n",
    "print(String1)\n"
   ]
  },
  {
   "cell_type": "code",
   "execution_count": 244,
   "metadata": {},
   "outputs": [
    {
     "name": "stdout",
     "output_type": "stream",
     "text": [
      "False\n",
      "False\n",
      "ishiTa _ /'bewafa'/ 143\n",
      " ishiTa _ /'bewafa'/ 143\n",
      "ishiTa _ /'bewafa'/ 143 \n",
      " ishiTa _ /'bewafa'/ 143 ^^^^^^^^^^^^^^^^^^^^^^^^^\n",
      "******* ishiTa _ /'bewafa'/ 143 ********\n",
      "^^^^^^^^^^^^^^^^^^^^^^^^^ ishiTa _ /'bewafa'/ 143 \n",
      " ISHITA _ /'BEWAFA'/ 143 \n",
      " ishita _ /'bewafa'/ 143 \n",
      "abcdefghijklmnopqrstuvwxyz\n",
      "ABCDEFGHIJKLMNOPQRSTUVWXYZ\n",
      "0123456789\n",
      "False\n",
      "False\n",
      "False\n",
      "False\n",
      "False\n",
      "False\n",
      "01234567\n",
      "0123456789abcdefABCDEF\n",
      "!\"#$%&'()*+,-./:;<=>?@[\\]^_`{|}~\n",
      "printable---- 0123456789abcdefghijklmnopqrstuvwxyzABCDEFGHIJKLMNOPQRSTUVWXYZ!\"#$%&'()*+,-./:;<=>?@[\\]^_`{|}~ \t\n",
      "\r",
      "\u000b",
      "\f",
      "\n",
      " ISHItA _ /'BEWAFA'/ 143 \n",
      "25\n",
      "True\n",
      "True\n"
     ]
    }
   ],
   "source": [
    "s = \" ishiTa _ /'bewafa'/ 143 \"\n",
    "print(s.isalnum())\n",
    "print(s.isdigit())\n",
    "print(s.strip())\n",
    "print(s.rstrip())\n",
    "print(s.lstrip())\n",
    "print(s.ljust(50,\"^\"))\n",
    "print(s.center(40,\"*\"))\n",
    "print(s.rjust(50,\"^\"))\n",
    "print(s.upper())\n",
    "print(s.lower())\n",
    "\n",
    "\n",
    "\n",
    "import string\n",
    "\n",
    "print(string.ascii_lowercase)\n",
    "print(string.ascii_uppercase)\n",
    "print(string.digits)\n",
    "\n",
    "print(s.isupper())\n",
    "print(s.islower())\n",
    "print(s.isdigit())\n",
    "print(s.isalpha())\n",
    "print(s.isdecimal())\n",
    "print(s.istitle())\n",
    "\n",
    "print(string.octdigits)\n",
    "print(string.hexdigits)\n",
    "print(string.punctuation)\n",
    "print('printable----',string.printable)\n",
    "\n",
    "print(s.swapcase())\n",
    "\n",
    "\n",
    "print(s.endswith('143 '))\n",
    "print(s.startswith(' ish'))"
   ]
  },
  {
   "cell_type": "code",
   "execution_count": 248,
   "metadata": {},
   "outputs": [
    {
     "name": "stdout",
     "output_type": "stream",
     "text": [
      "25\n",
      "<built-in method partition of str object at 0x0000018ED39C5BC0>\n"
     ]
    }
   ],
   "source": [
    "print(len(s))\n",
    "x = s.partition\n",
    "print(x)"
   ]
  },
  {
   "cell_type": "code",
   "execution_count": 250,
   "metadata": {},
   "outputs": [
    {
     "data": {
      "text/plain": [
       "1"
      ]
     },
     "execution_count": 250,
     "metadata": {},
     "output_type": "execute_result"
    }
   ],
   "source": [
    "s.rindex('ishiTa')"
   ]
  },
  {
   "cell_type": "code",
   "execution_count": 262,
   "metadata": {},
   "outputs": [
    {
     "name": "stdout",
     "output_type": "stream",
     "text": [
      "w\n",
      "23\n",
      "['ishiTa', '_', \"/'bewafa'/\", '143']\n",
      " ishita _ /'bewafa'/ 143 \n",
      "<built-in method maketrans of type object at 0x00007FF988297E50>\n"
     ]
    }
   ],
   "source": [
    "print(max(s))\n",
    "print(s.rfind('3'))\n",
    "print(s.rsplit())\n",
    "print(s.casefold())# returns str in lowercase\n",
    "print(s.maketrans)\n"
   ]
  },
  {
   "cell_type": "code",
   "execution_count": 263,
   "metadata": {},
   "outputs": [
    {
     "data": {
      "text/plain": [
       "'Function\\tDescription\\n\\nAppend()\\tAdd an element to the end of the list\\n\\nExtend()\\tAdd all elements of a list to the another list\\n\\nInsert()\\tInsert an item at the defined index\\n\\nRemove()\\tRemoves an item from the list\\n\\nPop()\\tRemoves and returns an element at the given index\\n\\nClear()\\tRemoves all items from the list\\n\\nIndex()\\tReturns the index of the first matched item\\n\\nCount()\\tReturns the count of number of items passed as an argument\\n\\nSort()\\tSort items in a list in ascending order\\n\\nReverse()\\tReverse the order of items in the list\\n\\ncopy()\\tReturns a copy of the list'"
      ]
     },
     "execution_count": 263,
     "metadata": {},
     "output_type": "execute_result"
    }
   ],
   "source": [
    "'''Function\tDescription\n",
    "\n",
    "Append()\tAdd an element to the end of the list\n",
    "\n",
    "Extend()\tAdd all elements of a list to the another list\n",
    "\n",
    "Insert()\tInsert an item at the defined index\n",
    "\n",
    "Remove()\tRemoves an item from the list\n",
    "\n",
    "Pop()\tRemoves and returns an element at the given index\n",
    "\n",
    "Clear()\tRemoves all items from the list\n",
    "\n",
    "Index()\tReturns the index of the first matched item\n",
    "\n",
    "Count()\tReturns the count of number of items passed as an argument\n",
    "\n",
    "Sort()\tSort items in a list in ascending order\n",
    "\n",
    "Reverse()\tReverse the order of items in the list\n",
    "\n",
    "copy()\tReturns a copy of the list'''\n"
   ]
  },
  {
   "cell_type": "code",
   "execution_count": 264,
   "metadata": {},
   "outputs": [
    {
     "data": {
      "text/plain": [
       "'\\nBuilt-in functions with List\\n\\nFunction\\tDescription\\n\\nreduce()\\tapply a particular function passed in its\\n            argument to all of the list elements stores the intermediate\\n            result and only returns the final summation value\\n\\nsum()\\tSums up the numbers in the list\\n\\nord()\\tReturns an integer representing the Unicode code \\n        point of the given Unicode character\\n\\ncmp()\\tThis function returns 1, if first list \\n        is “greater” than second list\\n\\nmax()\\treturn maximum element of given list\\n\\nmin()\\treturn minimum element of given list\\n\\nall()\\tReturns true if all element are \\n        true or if list is empty\\n\\nany()\\treturn true if any element of the list\\n        is true. if list is empty, return false\\n\\n\\nlen()\\tReturns length of the list or size of the list\\n\\n\\nenumerate()\\tReturns enumerate object of list\\n\\naccumulate()\\tapply a particular function passed \\n                in its argument to all of the list elements \\n                returns a list containing the intermediate results\\n\\nfilter()\\ttests if each element of a list true or not\\n\\nmap()\\treturns a list of the results after applying the \\n        given function to each item of a given iterable\\n\\nlambda()\\tThis function can have any number of arguments\\n            but only one expression, which is evaluated and returned.\\n\\n\\n'"
      ]
     },
     "execution_count": 264,
     "metadata": {},
     "output_type": "execute_result"
    }
   ],
   "source": [
    "'''\n",
    "Built-in functions with List\n",
    "\n",
    "Function\tDescription\n",
    "\n",
    "reduce()\tapply a particular function passed in its\n",
    "            argument to all of the list elements stores the intermediate\n",
    "            result and only returns the final summation value\n",
    "\n",
    "sum()\tSums up the numbers in the list\n",
    "\n",
    "ord()\tReturns an integer representing the Unicode code \n",
    "        point of the given Unicode character\n",
    "\n",
    "cmp()\tThis function returns 1, if first list \n",
    "        is “greater” than second list\n",
    "\n",
    "max()\treturn maximum element of given list\n",
    "\n",
    "min()\treturn minimum element of given list\n",
    "\n",
    "all()\tReturns true if all element are \n",
    "        true or if list is empty\n",
    "\n",
    "any()\treturn true if any element of the list\n",
    "        is true. if list is empty, return false\n",
    "\n",
    "\n",
    "len()\tReturns length of the list or size of the list\n",
    "\n",
    "\n",
    "enumerate()\tReturns enumerate object of list\n",
    "\n",
    "accumulate()\tapply a particular function passed \n",
    "                in its argument to all of the list elements \n",
    "                returns a list containing the intermediate results\n",
    "\n",
    "filter()\ttests if each element of a list true or not\n",
    "\n",
    "map()\treturns a list of the results after applying the \n",
    "        given function to each item of a given iterable\n",
    "\n",
    "lambda()\tThis function can have any number of arguments\n",
    "            but only one expression, which is evaluated and returned.\n",
    "\n",
    "\n",
    "'''"
   ]
  },
  {
   "cell_type": "code",
   "execution_count": 265,
   "metadata": {},
   "outputs": [
    {
     "name": "stdout",
     "output_type": "stream",
     "text": [
      "Tuple 1: \n",
      "(0, 1, 2, 3)\n",
      "\n",
      "Tuple2: \n",
      "('Geeks', 'For', 'Geeks')\n",
      "\n",
      "Tuples after Concatenation: \n",
      "(0, 1, 2, 3, 'Geeks', 'For', 'Geeks')\n"
     ]
    }
   ],
   "source": [
    "# Concatenation of tuples\n",
    "Tuple1 = (0, 1, 2, 3)\n",
    "Tuple2 = ('Geeks', 'For', 'Geeks')\n",
    "\n",
    "Tuple3 = Tuple1 + Tuple2\n",
    "\n",
    "# Printing first Tuple\n",
    "print(\"Tuple 1: \")\n",
    "print(Tuple1)\n",
    "\n",
    "# Printing Second Tuple\n",
    "print(\"\\nTuple2: \")\n",
    "print(Tuple2)\n",
    "\n",
    "# Printing Final Tuple\n",
    "print(\"\\nTuples after Concatenation: \")\n",
    "print(Tuple3)\n"
   ]
  },
  {
   "cell_type": "code",
   "execution_count": 275,
   "metadata": {},
   "outputs": [
    {
     "name": "stdout",
     "output_type": "stream",
     "text": [
      "Removal of First Element: \n",
      "('E', 'E', 'K', 'S', 'F', 'O', 'R', 'G', 'E', 'E', 'K', 'S')\n",
      "\n",
      "Tuple after sequence of Element is reversed: \n",
      "('S', 'K', 'E', 'E', 'G', 'R', 'O', 'F', 'S', 'K', 'E', 'E', 'G')\n",
      "\n",
      "Printing elements between Range 4-9: \n",
      "('S', 'F', 'O', 'R', 'G')\n",
      "4\n",
      "2\n"
     ]
    }
   ],
   "source": [
    "# Slicing of a Tuple\n",
    "\n",
    "# Slicing of a Tuple\n",
    "# with Numbers\n",
    "Tuple1 = tuple('GEEKSFORGEEKS')\n",
    "\n",
    "# Removing First element\n",
    "print(\"Removal of First Element: \")\n",
    "print(Tuple1[1:])\n",
    "\n",
    "# Reversing the Tuple\n",
    "print(\"\\nTuple after sequence of Element is reversed: \")\n",
    "print(Tuple1[::-1])\n",
    "\n",
    "# Printing elements of a Range\n",
    "print(\"\\nPrinting elements between Range 4-9: \")\n",
    "print(Tuple1[4:9])\n",
    "'''\n",
    "Built-in-Method\tDescription\n",
    "index( )\tfind in the tuple and returns the index of the given value where it’s available\n",
    "count( )\treturns the frequency of occurrence of a specified value\n",
    "\n",
    "'''\n",
    "Tuple = ('1','23',234)\n",
    "\n",
    "print(Tuple1.index('S'))\n",
    "print(Tuple1.count(\"G\"))"
   ]
  },
  {
   "cell_type": "code",
   "execution_count": 278,
   "metadata": {},
   "outputs": [
    {
     "ename": "TypeError",
     "evalue": "'set' object does not support item assignment",
     "output_type": "error",
     "traceback": [
      "\u001b[1;31m---------------------------------------------------------------------------\u001b[0m",
      "\u001b[1;31mTypeError\u001b[0m                                 Traceback (most recent call last)",
      "\u001b[1;32m<ipython-input-278-7e639bcc1d7f>\u001b[0m in \u001b[0;36m<module>\u001b[1;34m\u001b[0m\n\u001b[0;32m     13\u001b[0m \u001b[0ma\u001b[0m \u001b[1;33m=\u001b[0m \u001b[1;33m(\u001b[0m \u001b[1;34m'1'\u001b[0m\u001b[1;33m,\u001b[0m\u001b[1;36m2\u001b[0m\u001b[1;33m,\u001b[0m\u001b[1;34m'jojo'\u001b[0m\u001b[1;33m)\u001b[0m\u001b[1;31m#tuple\u001b[0m\u001b[1;33m\u001b[0m\u001b[1;33m\u001b[0m\u001b[0m\n\u001b[0;32m     14\u001b[0m \u001b[0mb\u001b[0m \u001b[1;33m=\u001b[0m \u001b[0mset\u001b[0m\u001b[1;33m(\u001b[0m\u001b[0ma\u001b[0m\u001b[1;33m)\u001b[0m\u001b[1;33m\u001b[0m\u001b[1;33m\u001b[0m\u001b[0m\n\u001b[1;32m---> 15\u001b[1;33m \u001b[0mb\u001b[0m\u001b[1;33m[\u001b[0m\u001b[1;36m1\u001b[0m\u001b[1;33m]\u001b[0m \u001b[1;33m=\u001b[0m \u001b[1;34m'update'\u001b[0m\u001b[1;33m\u001b[0m\u001b[1;33m\u001b[0m\u001b[0m\n\u001b[0m\u001b[0;32m     16\u001b[0m \u001b[0mb\u001b[0m\u001b[1;33m\u001b[0m\u001b[1;33m\u001b[0m\u001b[0m\n",
      "\u001b[1;31mTypeError\u001b[0m: 'set' object does not support item assignment"
     ]
    }
   ],
   "source": [
    "'''\n",
    "In Python, Set is an unordered collection of data type that is iterable,\n",
    "mutable and has no duplicate elements. The order of elements in a set is \n",
    "undefined though it may consist of various elements.\n",
    "\n",
    "The major advantage of using a set, as opposed to a list, is that it has a\n",
    "highly optimized method for checking whether a specific element is contained\n",
    "in the set.\n",
    "\n",
    "'''\n",
    "\n",
    "\n",
    "a = ( '1',2,'jojo')#tuple\n",
    "b = set(a)\n",
    "b[1] = 'update'\n",
    "b"
   ]
  },
  {
   "cell_type": "code",
   "execution_count": 279,
   "metadata": {},
   "outputs": [
    {
     "ename": "TypeError",
     "evalue": "'int' object is not iterable",
     "output_type": "error",
     "traceback": [
      "\u001b[1;31m---------------------------------------------------------------------------\u001b[0m",
      "\u001b[1;31mTypeError\u001b[0m                                 Traceback (most recent call last)",
      "\u001b[1;32m<ipython-input-279-fb2979bcf7c3>\u001b[0m in \u001b[0;36m<module>\u001b[1;34m\u001b[0m\n\u001b[1;32m----> 1\u001b[1;33m \u001b[0mb\u001b[0m\u001b[1;33m.\u001b[0m\u001b[0mupdate\u001b[0m\u001b[1;33m(\u001b[0m\u001b[1;36m10\u001b[0m\u001b[1;33m)\u001b[0m\u001b[1;33m\u001b[0m\u001b[1;33m\u001b[0m\u001b[0m\n\u001b[0m",
      "\u001b[1;31mTypeError\u001b[0m: 'int' object is not iterable"
     ]
    }
   ],
   "source": [
    "b.update(10)"
   ]
  },
  {
   "cell_type": "code",
   "execution_count": 287,
   "metadata": {},
   "outputs": [
    {
     "data": {
      "text/plain": [
       "{(23, 12), '1', 10, 12, 2, 23, 78, 99, 'jojo'}"
      ]
     },
     "execution_count": 287,
     "metadata": {},
     "output_type": "execute_result"
    }
   ],
   "source": [
    "b.update([10]) # inserts randomly\n",
    "b.update([99,78,(23,12)])\n",
    "b"
   ]
  },
  {
   "cell_type": "code",
   "execution_count": 289,
   "metadata": {},
   "outputs": [
    {
     "data": {
      "text/plain": [
       "{(23, 12), '1', 10, 12, 2, 23, 78, 9, 99, 'jojo'}"
      ]
     },
     "execution_count": 289,
     "metadata": {},
     "output_type": "execute_result"
    }
   ],
   "source": [
    "b.add(9)\n",
    "b"
   ]
  },
  {
   "cell_type": "code",
   "execution_count": 291,
   "metadata": {},
   "outputs": [
    {
     "data": {
      "text/plain": [
       "{'1', 10, 12, 2, 23, 78, 9, 99, 'jojo'}"
      ]
     },
     "execution_count": 291,
     "metadata": {},
     "output_type": "execute_result"
    }
   ],
   "source": [
    "b.discard((23,12))\n",
    "b"
   ]
  },
  {
   "cell_type": "markdown",
   "metadata": {},
   "source": []
  },
  {
   "cell_type": "code",
   "execution_count": 295,
   "metadata": {},
   "outputs": [
    {
     "data": {
      "text/plain": [
       "{12, 2, 23, 78, 9, 99, 'jojo'}"
      ]
     },
     "execution_count": 295,
     "metadata": {},
     "output_type": "execute_result"
    }
   ],
   "source": [
    "b.remove(10)\n",
    "b"
   ]
  },
  {
   "cell_type": "code",
   "execution_count": 299,
   "metadata": {},
   "outputs": [
    {
     "name": "stdout",
     "output_type": "stream",
     "text": [
      "The FrozenSet is: \n",
      "frozenset({'e', 'r', 'F', 'G', 'k', 's', 'o'})\n",
      "\n",
      "Empty FrozenSet: \n",
      "frozenset()\n",
      "None\n"
     ]
    },
    {
     "data": {
      "text/plain": [
       "set()"
      ]
     },
     "execution_count": 299,
     "metadata": {},
     "output_type": "execute_result"
    }
   ],
   "source": [
    "'''\n",
    "Frozen sets in Python are immutable objects that only\n",
    "support methods and operators that produce a result without\n",
    "affecting the frozen set or sets to which they are applied. \n",
    "While elements of a set can be modified at any time, elements\n",
    "of the frozen set remain the same after creation. \n",
    "'''\n",
    "\n",
    "\n",
    "# Python program to demonstrate\n",
    "# working of a FrozenSet\n",
    "\n",
    "# Creating a Set\n",
    "String = ('G', 'e', 'e', 'k', 's', 'F', 'o', 'r')\n",
    "\n",
    "Fset1 = frozenset(String)\n",
    "print(\"The FrozenSet is: \")\n",
    "print(Fset1)\n",
    "\n",
    "# To print Empty Frozen Set\n",
    "# No parameter is passed\n",
    "print(\"\\nEmpty FrozenSet: \")\n",
    "print(frozenset())\n",
    "\n",
    "S=set(String)\n",
    "print(S.clear())\n",
    "S"
   ]
  },
  {
   "cell_type": "code",
   "execution_count": 300,
   "metadata": {},
   "outputs": [
    {
     "data": {
      "text/plain": [
       "'\\nFunction\\tDescription\\n\\nadd()\\tAdds an element to a set\\n\\nremove()\\tRemoves an element from a set. If the element is not present in the set, raise a KeyError\\n\\nclear()\\tRemoves all elements form a set\\n\\ncopy()\\tReturns a shallow copy of a set\\n\\npop()\\tRemoves and returns an arbitrary set element. Raise KeyError if the set is empty\\n\\nupdate()\\tUpdates a set with the union of itself and others\\n\\nunion()\\tReturns the union of sets in a new set\\n\\ndifference()\\tReturns the difference of two or more sets as a new set\\n\\ndifference_update()\\tRemoves all elements of another set from this set\\n\\ndiscard()\\tRemoves an element from set if it is a member. (Do nothing if the element is not in set)\\n\\nintersection()\\tReturns the intersection of two sets as a new set\\n\\nintersection_update()\\tUpdates the set with the intersection of itself and another\\n\\nisdisjoint()\\tReturns True if two sets have a null intersection\\n\\nissubset()\\tReturns True if another set contains this set\\n\\nissuperset()\\tReturns True if this set contains another set\\n\\nsymmetric_difference()\\tReturns the symmetric difference of two sets as a new set\\n\\nsymmetric_difference_update()\\tUpdates a set with the symmetric difference of itself and another\\n\\n'"
      ]
     },
     "execution_count": 300,
     "metadata": {},
     "output_type": "execute_result"
    }
   ],
   "source": [
    "'''\n",
    "for set():\n",
    "\n",
    "Function\tDescription\n",
    "\n",
    "add()\tAdds an element to a set\n",
    "\n",
    "remove()\tRemoves an element from a set. If the element is not present in the set, raise a KeyError\n",
    "\n",
    "clear()\tRemoves all elements form a set\n",
    "\n",
    "copy()\tReturns a shallow copy of a set\n",
    "\n",
    "pop()\tRemoves and returns an arbitrary set element. Raise KeyError if the set is empty\n",
    "\n",
    "update()\tUpdates a set with the union of itself and others\n",
    "\n",
    "union()\tReturns the union of sets in a new set\n",
    "\n",
    "difference()\tReturns the difference of two or more sets as a new set\n",
    "\n",
    "difference_update()\tRemoves all elements of another set from this set\n",
    "\n",
    "discard()\tRemoves an element from set if it is a member. (Do nothing if the element is not in set)\n",
    "\n",
    "intersection()\tReturns the intersection of two sets as a new set\n",
    "\n",
    "intersection_update()\tUpdates the set with the intersection of itself and another\n",
    "\n",
    "isdisjoint()\tReturns True if two sets have a null intersection\n",
    "\n",
    "issubset()\tReturns True if another set contains this set\n",
    "\n",
    "issuperset()\tReturns True if this set contains another set\n",
    "\n",
    "symmetric_difference()\tReturns the symmetric difference of two sets as a new set\n",
    "\n",
    "symmetric_difference_update()\tUpdates a set with the symmetric difference of itself and another\n",
    "\n",
    "'''"
   ]
  },
  {
   "cell_type": "code",
   "execution_count": 344,
   "metadata": {},
   "outputs": [
    {
     "ename": "SyntaxError",
     "evalue": "invalid syntax (<ipython-input-344-b4dfbd57b2f3>, line 17)",
     "output_type": "error",
     "traceback": [
      "\u001b[1;36m  File \u001b[1;32m\"<ipython-input-344-b4dfbd57b2f3>\"\u001b[1;36m, line \u001b[1;32m17\u001b[0m\n\u001b[1;33m    d[key for key in keys] = value for value in values\u001b[0m\n\u001b[1;37m            ^\u001b[0m\n\u001b[1;31mSyntaxError\u001b[0m\u001b[1;31m:\u001b[0m invalid syntax\n"
     ]
    }
   ],
   "source": [
    "'''\n",
    "Dictionary in Python is an ordered collection of data values, \n",
    "used to store data values like a map, which, unlike other Data\n",
    "Types that hold only a single value as an element, Dictionary \n",
    "holds key:value pair.\n",
    "\n",
    "'''\n",
    "dict = {\"scs\": 123,\"lee\":234}\n",
    "print(type(dict))\n",
    "\n",
    "keys= {1,2,3,4,5,6,7,88,100}\n",
    "values = {\"a\",\"b\",\"c\",\"d\",\"e\",\"f\",\"g\",\"h\",\"i\"}\n",
    "#for i in range(0,4):\n",
    "#    dict[keys[i]] = values[i]\n",
    " \n",
    "d = dict()\n",
    "d[key for key in keys] = value for value in values\n",
    "print(d)\n",
    "    \n",
    "print(dict.keys())\n",
    "print(dict.values())\n",
    "print(dict)\n",
    "print(str(dict))\n"
   ]
  },
  {
   "cell_type": "code",
   "execution_count": 348,
   "metadata": {},
   "outputs": [
    {
     "name": "stdout",
     "output_type": "stream",
     "text": [
      "{1: 'e', 2: 'a', 3: 'd', 4: 'f', 5: 'h', 6: 'g', 7: 'i', 100: 'c', 88: 'b'}\n",
      "{1: 'e', 3: 'd', 4: 'f', 5: 'h', 6: 'g', 7: 'i', 100: 'c'}\n"
     ]
    }
   ],
   "source": [
    "#  for the soln of above error\n",
    "'''\n",
    "Using zip(): zip() is used to combine 2 similar containers(list-list or dict-dict)\n",
    "printing the values sequentially. The loop exists only till the smaller container\n",
    "ends. A detailed explanation of zip() and enumerate() can be found here.\n",
    "'''\n",
    "keys= {1,2,3,4,5,6,7,88,100}\n",
    "values = {\"a\",\"b\",\"c\",\"d\",\"e\",\"f\",\"g\",\"h\",\"i\"}\n",
    "\n",
    "d = {}\n",
    "\n",
    "for (k,v) in zip(keys,values):\n",
    "    d[k] = v\n",
    "\n",
    "print(d)\n",
    "d.pop(2)\n",
    "d.popitem()\n",
    "print(d)"
   ]
  },
  {
   "cell_type": "code",
   "execution_count": 350,
   "metadata": {},
   "outputs": [
    {
     "name": "stdout",
     "output_type": "stream",
     "text": [
      "9\n",
      "8\n",
      "7\n",
      "6\n",
      "5\n",
      "4\n",
      "3\n",
      "2\n",
      "1\n",
      "0\n"
     ]
    }
   ],
   "source": [
    "for i in reversed(range(0,10)):\n",
    "    print(i)"
   ]
  },
  {
   "cell_type": "code",
   "execution_count": 341,
   "metadata": {},
   "outputs": [
    {
     "data": {
      "text/plain": [
       "'\\nMethods\\tDescription\\ncopy()\\tThey copy() method returns a shallow copy of the dictionary.\\nclear()\\tThe clear() method removes all items from the dictionary.\\npop()\\tRemoves and returns an element from a dictionary having the given key.\\npopitem()\\tRemoves the arbitrary key-value pair from the dictionary and returns it as tuple.\\nget()\\tIt is a conventional method to access a value for a key.\\ndictionary_name.values()\\treturns a list of all the values available in a given dictionary.\\nstr()\\tProduces a printable string representation of a dictionary.\\nupdate()\\tAdds dictionary dict2’s key-values pairs to dict\\nsetdefault()\\tSet dict[key]=default if key is not already in dict\\nkeys()\\tReturns list of dictionary dict’s keys\\nitems()\\tReturns a list of dict’s (key, value) tuple pairs\\nhas_key()\\tReturns true if key in dictionary dict, false otherwise\\nfromkeys()\\tCreate a new dictionary with keys from seq and values set to value.\\ntype()\\tReturns the type of the passed variable.\\ncmp()\\tCompares elements of both dict.\\n'"
      ]
     },
     "execution_count": 341,
     "metadata": {},
     "output_type": "execute_result"
    }
   ],
   "source": [
    "'''\n",
    "Methods\tDescription\n",
    "copy()\tThey copy() method returns a shallow copy of the dictionary.\n",
    "clear()\tThe clear() method removes all items from the dictionary.\n",
    "pop()\tRemoves and returns an element from a dictionary having the given key.\n",
    "popitem()\tRemoves the arbitrary key-value pair from the dictionary and returns it as tuple.\n",
    "get()\tIt is a conventional method to access a value for a key.\n",
    "dictionary_name.values()\treturns a list of all the values available in a given dictionary.\n",
    "str()\tProduces a printable string representation of a dictionary.\n",
    "update()\tAdds dictionary dict2’s key-values pairs to dict\n",
    "setdefault()\tSet dict[key]=default if key is not already in dict\n",
    "keys()\tReturns list of dictionary dict’s keys\n",
    "items()\tReturns a list of dict’s (key, value) tuple pairs\n",
    "has_key()\tReturns true if key in dictionary dict, false otherwise\n",
    "fromkeys()\tCreate a new dictionary with keys from seq and values set to value.\n",
    "type()\tReturns the type of the passed variable.\n",
    "cmp()\tCompares elements of both dict.\n",
    "'''"
   ]
  },
  {
   "cell_type": "code",
   "execution_count": 342,
   "metadata": {},
   "outputs": [
    {
     "name": "stdout",
     "output_type": "stream",
     "text": [
      "True\n",
      "False\n",
      "True\n",
      "True\n",
      "True\n"
     ]
    }
   ],
   "source": [
    "# Python code to illustrate\n",
    "# chaining comparison operators\n",
    "x = 5\n",
    "print(1 < x < 10)\n",
    "print(10 < x < 20 )\n",
    "print(x < 10 < x*10 < 100)\n",
    "print(10 > x <= 9)\n",
    "print(5 == x > 4)\n"
   ]
  },
  {
   "cell_type": "code",
   "execution_count": 343,
   "metadata": {},
   "outputs": [
    {
     "name": "stdout",
     "output_type": "stream",
     "text": [
      "0 The\n",
      "1 Big\n",
      "2 Bang\n",
      "3 Theory\n"
     ]
    }
   ],
   "source": [
    "# python code to demonstrate working of enumerate()\n",
    "\n",
    "for key, value in enumerate(['The', 'Big', 'Bang', 'Theory']):\n",
    "\tprint(key, value)\n"
   ]
  },
  {
   "cell_type": "code",
   "execution_count": 1,
   "metadata": {},
   "outputs": [
    {
     "name": "stdout",
     "output_type": "stream",
     "text": [
      "<enumerate object at 0x00000216112EC318>\n"
     ]
    }
   ],
   "source": [
    "e = enumerate([v for v in range(0,11)])\n",
    "print(e)"
   ]
  },
  {
   "cell_type": "code",
   "execution_count": 4,
   "metadata": {},
   "outputs": [
    {
     "name": "stdout",
     "output_type": "stream",
     "text": [
      "0 0\n",
      "1 1\n",
      "2 2\n",
      "3 3\n",
      "4 4\n",
      "5 5\n",
      "6 6\n",
      "7 7\n",
      "8 8\n",
      "9 9\n",
      "10 10\n"
     ]
    }
   ],
   "source": [
    "for k,v in e:\n",
    "    print(k,v)"
   ]
  },
  {
   "cell_type": "code",
   "execution_count": null,
   "metadata": {},
   "outputs": [],
   "source": []
  },
  {
   "cell_type": "code",
   "execution_count": null,
   "metadata": {},
   "outputs": [],
   "source": []
  }
 ],
 "metadata": {
  "kernelspec": {
   "display_name": "Python 3",
   "language": "python",
   "name": "python3"
  },
  "language_info": {
   "codemirror_mode": {
    "name": "ipython",
    "version": 3
   },
   "file_extension": ".py",
   "mimetype": "text/x-python",
   "name": "python",
   "nbconvert_exporter": "python",
   "pygments_lexer": "ipython3",
   "version": "3.7.6"
  }
 },
 "nbformat": 4,
 "nbformat_minor": 4
}
